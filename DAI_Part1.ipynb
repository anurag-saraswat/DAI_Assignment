{
 "cells": [
  {
   "cell_type": "code",
   "execution_count": 11,
   "metadata": {
    "id": "ZrjnL2A9-wuY"
   },
   "outputs": [],
   "source": [
    "import numpy as np \n",
    "import pandas as pd\n",
    "import os\n",
    "import glob\n",
    "import pandas as pd\n",
    "import matplotlib.pyplot as plt\n",
    "import seaborn as sns\n",
    "from PIL import Image\n",
    "from sklearn.model_selection import train_test_split\n",
    "from torch.utils.data import Dataset\n",
    "from torch.utils.data import DataLoader\n",
    "from torchvision import transforms\n",
    "import math\n",
    "import torch\n",
    "import torch.nn as nn\n",
    "import torch.nn.functional as F\n",
    "\n",
    "import torch\n",
    "from torchvision.datasets import CIFAR10\n",
    "from torch.utils.data import random_split, DataLoader\n",
    "from torch.utils.data import Dataset\n",
    "import torchvision.transforms as transforms\n",
    "import matplotlib.pyplot as plt\n",
    "import torchvision.transforms as tt\n",
    "import torchvision\n",
    "from torchsummary import summary\n",
    "\n",
    "import random\n",
    "import numpy as np\n",
    "import torch.nn as nn\n",
    "\n",
    "import warnings\n",
    "warnings.filterwarnings('ignore')\n",
    "from tqdm import tqdm\n",
    "\n",
    "np.random.seed(4)\n",
    "from tabulate import tabulate"
   ]
  },
  {
   "cell_type": "markdown",
   "metadata": {
    "id": "L5oJwY0oE0Mo"
   },
   "source": [
    "# Dataset and Dataloader"
   ]
  },
  {
   "cell_type": "code",
   "execution_count": 12,
   "metadata": {
    "id": "dhhEEPE7r-Mj"
   },
   "outputs": [],
   "source": [
    "dataset_folder_name = \"./UTKFace\"\n",
    "IM_WIDTH = IM_HEIGHT = 224"
   ]
  },
  {
   "cell_type": "code",
   "execution_count": 13,
   "metadata": {
    "id": "sKmlZ_4zsNhA"
   },
   "outputs": [],
   "source": [
    "dataset_dict = {\n",
    "    'race_id': {\n",
    "        0: 'white', \n",
    "        1: 'black', \n",
    "        2: 'asian', \n",
    "        3: 'indian', \n",
    "        4: 'others'\n",
    "    },\n",
    "    'gender_id': {\n",
    "        #0: 'male',\n",
    "        #1: 'female'\n",
    "        0: 0,\n",
    "        1: 1\n",
    "    }\n",
    "}"
   ]
  },
  {
   "cell_type": "code",
   "execution_count": 14,
   "metadata": {
    "id": "3HLO21gCsWXq"
   },
   "outputs": [],
   "source": [
    "dataset_dict['gender_alias'] = dict((g, i) for i, g in dataset_dict['gender_id'].items())\n",
    "dataset_dict['race_alias'] = dict((r, i) for i, r in dataset_dict['race_id'].items())"
   ]
  },
  {
   "cell_type": "markdown",
   "metadata": {},
   "source": [
    "Creating Utility function for readinng data\n"
   ]
  },
  {
   "cell_type": "code",
   "execution_count": 15,
   "metadata": {
    "id": "bsgUsx77sXWK"
   },
   "outputs": [],
   "source": [
    "def parse_info_from_file(path):\n",
    "        try:\n",
    "            filename = os.path.split(path)[1]\n",
    "            filename = os.path.splitext(filename)[0]\n",
    "            age, gender, race, _ = filename.split('_')            \n",
    "            return int(age), int(dataset_dict['gender_id'][int(gender)]), dataset_dict['race_id'][int(race)]\n",
    "        except Exception as ex:\n",
    "            return None, None, None"
   ]
  },
  {
   "cell_type": "code",
   "execution_count": 16,
   "metadata": {
    "id": "NmlFcvthsarJ"
   },
   "outputs": [],
   "source": [
    "def parse_dataset(dataset_path, ext='jpg'):     \n",
    "    files = glob.glob(os.path.join(dataset_path, \"*.%s\" % ext))\n",
    "    \n",
    "    records = []\n",
    "    for file in files:\n",
    "        info = parse_info_from_file(file)\n",
    "        records.append(info)\n",
    "        \n",
    "    df = pd.DataFrame(records)\n",
    "    df['file'] = files\n",
    "    df.columns = ['age', 'gender', 'race', 'file']\n",
    "    df = df.dropna()\n",
    "    \n",
    "    return df"
   ]
  },
  {
   "cell_type": "markdown",
   "metadata": {},
   "source": [
    "Creating Custom datset class"
   ]
  },
  {
   "cell_type": "code",
   "execution_count": 17,
   "metadata": {
    "id": "O9p0wyjOFfBz"
   },
   "outputs": [],
   "source": [
    "class UTKFaceDataset(Dataset):\n",
    "    \"\"\"Custom Dataset for loading UTKFace face images\"\"\"\n",
    "\n",
    "    def __init__(self,df, transform=None):\n",
    "        self.img_names = df['file'].values\n",
    "        self.y = df['gender'].values\n",
    "        self.transform = transform\n",
    "\n",
    "    def __getitem__(self, index):\n",
    "        img = Image.open(self.img_names[index])\n",
    "\n",
    "        if self.transform is not None:\n",
    "            img = self.transform(img)\n",
    "\n",
    "        label = self.y[index]\n",
    "\n",
    "        return img, label\n",
    "\n",
    "    def __len__(self):\n",
    "        return self.y.shape[0]"
   ]
  },
  {
   "cell_type": "code",
   "execution_count": 18,
   "metadata": {
    "id": "P9BTRRpWsc7v"
   },
   "outputs": [
    {
     "name": "stderr",
     "output_type": "stream",
     "text": [
      "100%|██████████| 23705/23705 [00:00<00:00, 755470.61it/s]\n"
     ]
    }
   ],
   "source": [
    "df = parse_dataset(dataset_folder_name)\n",
    "\n",
    "age = df['age'].values\n",
    "age_categories = []\n",
    "for i in tqdm(range(len(age))):\n",
    "    if age[i]<=28:\n",
    "        age_categories.append('children')\n",
    "    elif 28<age[i]<=56:\n",
    "        age_categories.append('young')\n",
    "    elif 56<age[i]<=84:\n",
    "        age_categories.append('adult')\n",
    "    else:\n",
    "        age_categories.append('old')\n",
    "df['age_categories'] = age_categories  \n",
    "\n",
    "## Spliting dataset into train and test\n",
    "train, test = train_test_split(df, test_size=0.2)\n",
    "img = Image.open(df['file'][0])"
   ]
  },
  {
   "cell_type": "code",
   "execution_count": 19,
   "metadata": {
    "colab": {
     "base_uri": "https://localhost:8080/",
     "height": 216
    },
    "id": "rXenEubiRDaN",
    "outputId": "21945291-cd40-450d-fd66-828653e2e624"
   },
   "outputs": [
    {
     "data": {
      "image/png": "[encoded data removed]",
      "text/plain": [
       "<PIL.JpegImagePlugin.JpegImageFile image mode=RGB size=200x200 at 0x7FC73F6BDC50>"
      ]
     },
     "execution_count": 19,
     "metadata": {},
     "output_type": "execute_result"
    }
   ],
   "source": [
    "img"
   ]
  },
  {
   "cell_type": "code",
   "execution_count": 20,
   "metadata": {},
   "outputs": [
    {
     "data": {
      "text/html": [
       "<div>\n",
       "<style scoped>\n",
       "    .dataframe tbody tr th:only-of-type {\n",
       "        vertical-align: middle;\n",
       "    }\n",
       "\n",
       "    .dataframe tbody tr th {\n",
       "        vertical-align: top;\n",
       "    }\n",
       "\n",
       "    .dataframe thead th {\n",
       "        text-align: right;\n",
       "    }\n",
       "</style>\n",
       "<table border=\"1\" class=\"dataframe\">\n",
       "  <thead>\n",
       "    <tr style=\"text-align: right;\">\n",
       "      <th></th>\n",
       "      <th>age</th>\n",
       "      <th>gender</th>\n",
       "      <th>race</th>\n",
       "      <th>file</th>\n",
       "      <th>age_categories</th>\n",
       "    </tr>\n",
       "  </thead>\n",
       "  <tbody>\n",
       "    <tr>\n",
       "      <th>0</th>\n",
       "      <td>1.0</td>\n",
       "      <td>0.0</td>\n",
       "      <td>asian</td>\n",
       "      <td>./UTKFace/1_0_2_20161219200203132.jpg.chip.jpg</td>\n",
       "      <td>children</td>\n",
       "    </tr>\n",
       "    <tr>\n",
       "      <th>1</th>\n",
       "      <td>15.0</td>\n",
       "      <td>0.0</td>\n",
       "      <td>white</td>\n",
       "      <td>./UTKFace/15_0_0_20170116201342325.jpg.chip.jpg</td>\n",
       "      <td>children</td>\n",
       "    </tr>\n",
       "    <tr>\n",
       "      <th>2</th>\n",
       "      <td>28.0</td>\n",
       "      <td>0.0</td>\n",
       "      <td>black</td>\n",
       "      <td>./UTKFace/28_0_1_20170109012501213.jpg.chip.jpg</td>\n",
       "      <td>children</td>\n",
       "    </tr>\n",
       "    <tr>\n",
       "      <th>3</th>\n",
       "      <td>63.0</td>\n",
       "      <td>0.0</td>\n",
       "      <td>white</td>\n",
       "      <td>./UTKFace/63_0_0_20170104213553685.jpg.chip.jpg</td>\n",
       "      <td>adult</td>\n",
       "    </tr>\n",
       "    <tr>\n",
       "      <th>4</th>\n",
       "      <td>17.0</td>\n",
       "      <td>0.0</td>\n",
       "      <td>white</td>\n",
       "      <td>./UTKFace/17_0_0_20170104011953696.jpg.chip.jpg</td>\n",
       "      <td>children</td>\n",
       "    </tr>\n",
       "    <tr>\n",
       "      <th>...</th>\n",
       "      <td>...</td>\n",
       "      <td>...</td>\n",
       "      <td>...</td>\n",
       "      <td>...</td>\n",
       "      <td>...</td>\n",
       "    </tr>\n",
       "    <tr>\n",
       "      <th>23703</th>\n",
       "      <td>26.0</td>\n",
       "      <td>0.0</td>\n",
       "      <td>asian</td>\n",
       "      <td>./UTKFace/26_0_2_20170116181100669.jpg.chip.jpg</td>\n",
       "      <td>children</td>\n",
       "    </tr>\n",
       "    <tr>\n",
       "      <th>23704</th>\n",
       "      <td>19.0</td>\n",
       "      <td>1.0</td>\n",
       "      <td>black</td>\n",
       "      <td>./UTKFace/19_1_1_20170113012937783.jpg.chip.jpg</td>\n",
       "      <td>children</td>\n",
       "    </tr>\n",
       "    <tr>\n",
       "      <th>23705</th>\n",
       "      <td>34.0</td>\n",
       "      <td>0.0</td>\n",
       "      <td>white</td>\n",
       "      <td>./UTKFace/34_0_0_20170116232429422.jpg.chip.jpg</td>\n",
       "      <td>young</td>\n",
       "    </tr>\n",
       "    <tr>\n",
       "      <th>23706</th>\n",
       "      <td>25.0</td>\n",
       "      <td>1.0</td>\n",
       "      <td>indian</td>\n",
       "      <td>./UTKFace/25_1_3_20170104232025362.jpg.chip.jpg</td>\n",
       "      <td>children</td>\n",
       "    </tr>\n",
       "    <tr>\n",
       "      <th>23707</th>\n",
       "      <td>20.0</td>\n",
       "      <td>1.0</td>\n",
       "      <td>others</td>\n",
       "      <td>./UTKFace/20_1_4_20170103224446743.jpg.chip.jpg</td>\n",
       "      <td>children</td>\n",
       "    </tr>\n",
       "  </tbody>\n",
       "</table>\n",
       "<p>23705 rows × 5 columns</p>\n",
       "</div>"
      ],
      "text/plain": [
       "        age  gender    race                                             file  \\\n",
       "0       1.0     0.0   asian   ./UTKFace/1_0_2_20161219200203132.jpg.chip.jpg   \n",
       "1      15.0     0.0   white  ./UTKFace/15_0_0_20170116201342325.jpg.chip.jpg   \n",
       "2      28.0     0.0   black  ./UTKFace/28_0_1_20170109012501213.jpg.chip.jpg   \n",
       "3      63.0     0.0   white  ./UTKFace/63_0_0_20170104213553685.jpg.chip.jpg   \n",
       "4      17.0     0.0   white  ./UTKFace/17_0_0_20170104011953696.jpg.chip.jpg   \n",
       "...     ...     ...     ...                                              ...   \n",
       "23703  26.0     0.0   asian  ./UTKFace/26_0_2_20170116181100669.jpg.chip.jpg   \n",
       "23704  19.0     1.0   black  ./UTKFace/19_1_1_20170113012937783.jpg.chip.jpg   \n",
       "23705  34.0     0.0   white  ./UTKFace/34_0_0_20170116232429422.jpg.chip.jpg   \n",
       "23706  25.0     1.0  indian  ./UTKFace/25_1_3_20170104232025362.jpg.chip.jpg   \n",
       "23707  20.0     1.0  others  ./UTKFace/20_1_4_20170103224446743.jpg.chip.jpg   \n",
       "\n",
       "      age_categories  \n",
       "0           children  \n",
       "1           children  \n",
       "2           children  \n",
       "3              adult  \n",
       "4           children  \n",
       "...              ...  \n",
       "23703       children  \n",
       "23704       children  \n",
       "23705          young  \n",
       "23706       children  \n",
       "23707       children  \n",
       "\n",
       "[23705 rows x 5 columns]"
      ]
     },
     "execution_count": 20,
     "metadata": {},
     "output_type": "execute_result"
    }
   ],
   "source": [
    "df"
   ]
  },
  {
   "cell_type": "code",
   "execution_count": 12,
   "metadata": {
    "id": "hIPJGxzn9hDg"
   },
   "outputs": [],
   "source": [
    "custom_transform = transforms.Compose([transforms.Resize((224, 224)),transforms.ToTensor()])\n",
    "train_data = UTKFaceDataset(train,custom_transform)\n",
    "test_data = UTKFaceDataset(test,custom_transform)"
   ]
  },
  {
   "cell_type": "code",
   "execution_count": null,
   "metadata": {
    "id": "W6-_NsaaCzW1"
   },
   "outputs": [],
   "source": []
  },
  {
   "cell_type": "markdown",
   "metadata": {
    "id": "AImfUyspGa3o"
   },
   "source": [
    "# Classification using LCNN model (9 Conv layer version)"
   ]
  },
  {
   "cell_type": "code",
   "execution_count": 11,
   "metadata": {
    "id": "9NJxgFKHGb-A"
   },
   "outputs": [],
   "source": [
    "class mfm(nn.Module):\n",
    "    def __init__(self, in_channels, out_channels, kernel_size=3, stride=1, padding=1, type=1):\n",
    "        super(mfm, self).__init__()\n",
    "        self.out_channels = out_channels\n",
    "        if type == 1:\n",
    "            self.filter = nn.Conv2d(in_channels, 2*out_channels, kernel_size=kernel_size, stride=stride, padding=padding)\n",
    "        else:\n",
    "            self.filter = nn.Linear(in_channels, 2*out_channels)\n",
    "\n",
    "    def forward(self, x):\n",
    "        x = self.filter(x)\n",
    "        out = torch.split(x, self.out_channels, 1)\n",
    "        return torch.max(out[0], out[1])\n",
    "\n",
    "class group(nn.Module):\n",
    "    def __init__(self, in_channels, out_channels, kernel_size, stride, padding):\n",
    "        super(group, self).__init__()\n",
    "        self.conv_a = mfm(in_channels, in_channels, 1, 1, 0)\n",
    "        self.conv   = mfm(in_channels, out_channels, kernel_size, stride, padding)\n",
    "\n",
    "    def forward(self, x):\n",
    "        x = self.conv_a(x)\n",
    "        x = self.conv(x)\n",
    "        return x\n",
    "\n",
    "class resblock(nn.Module):\n",
    "    def __init__(self, in_channels, out_channels):\n",
    "        super(resblock, self).__init__()\n",
    "        self.conv1 = mfm(in_channels, out_channels, kernel_size=3, stride=1, padding=1)\n",
    "        self.conv2 = mfm(in_channels, out_channels, kernel_size=3, stride=1, padding=1)\n",
    "\n",
    "    def forward(self, x):\n",
    "        res = x\n",
    "        out = self.conv1(x)\n",
    "        out = self.conv2(out)\n",
    "        out = out + res\n",
    "        return out\n",
    "\n",
    "class network_9layers(nn.Module):\n",
    "    def __init__(self, num_classes=79077):\n",
    "        super(network_9layers, self).__init__()\n",
    "        self.features = nn.Sequential(\n",
    "            mfm(3, 48, 5, 1, 2), \n",
    "            nn.MaxPool2d(kernel_size=2, stride=2, ceil_mode=True), \n",
    "            group(48, 96, 3, 1, 1), \n",
    "            nn.MaxPool2d(kernel_size=2, stride=2, ceil_mode=True),\n",
    "            group(96, 192, 3, 1, 1),\n",
    "            nn.MaxPool2d(kernel_size=2, stride=2, ceil_mode=True), \n",
    "            group(192, 128, 3, 1, 1),\n",
    "            group(128, 128, 3, 1, 1),\n",
    "            nn.MaxPool2d(kernel_size=2, stride=2, ceil_mode=True),\n",
    "            )\n",
    "        self.fc1 = mfm(25088, 256, type=0)\n",
    "        self.fc2 = nn.Linear(256, 2)\n",
    "\n",
    "    def forward(self, x):\n",
    "        x = self.features(x)\n",
    "        x = x.view(x.size(0), -1)\n",
    "        x = self.fc1(x)\n",
    "        x = F.dropout(x, training=self.training)\n",
    "        out = self.fc2(x)\n",
    "        return out, x"
   ]
  },
  {
   "cell_type": "code",
   "execution_count": 12,
   "metadata": {
    "id": "r3CyaNJ8I7ta"
   },
   "outputs": [],
   "source": [
    "def get_device():\n",
    "    return torch.device('cuda:1') if torch.cuda.is_available() else torch.device('cpu')\n",
    "\n",
    "def to_device(data, device):\n",
    "    if isinstance(data, (list, tuple)):\n",
    "        return [to_device(x, device) for x in data]\n",
    "    return data.to(device, non_blocking=True)\n",
    "\n",
    "class DeviceDataLoader(DataLoader):\n",
    "        def __init__(self, dl, device):\n",
    "            self.dl = dl\n",
    "            self.device = device\n",
    "\n",
    "        def __iter__(self):\n",
    "            for batch in self.dl:\n",
    "                yield to_device(batch, self.device)\n",
    "\n",
    "        def __len__(self):\n",
    "            return len(self.dl)"
   ]
  },
  {
   "cell_type": "code",
   "execution_count": 69,
   "metadata": {
    "id": "ScfNI-M5Kmeg"
   },
   "outputs": [],
   "source": [
    "class Network():   \n",
    "    model = None \n",
    "    def __init__(self):\n",
    "        self.model = network_9layers()\n",
    "        self.model.to(get_device())\n",
    "           \n",
    "    def batch_accuracy(self, outputs, labels):\n",
    "        with torch.no_grad():\n",
    "          _, predictions = torch.max(outputs, dim=1)\n",
    "          return torch.tensor(torch.sum(predictions == labels).item() / len(predictions))\n",
    "\n",
    "    def _process_batch(self, batch):\n",
    "        images, labels = batch\n",
    "        outputs,_ = self.model(images)\n",
    "        labels = torch.tensor(labels, dtype=torch.long, device=device)\n",
    "        loss = torch.nn.functional.cross_entropy(outputs, labels)\n",
    "        accuracy = self.batch_accuracy(outputs, labels)\n",
    "        return (loss, accuracy)\n",
    "\n",
    "    def fit(self, dataset, epochs, lr, batch_size, opt=torch.optim.SGD):\n",
    "        dataloader = DeviceDataLoader(DataLoader(dataset, batch_size, shuffle=True), device)\n",
    "        optimizer = torch.optim.SGD(self.model.parameters(), lr=0.001, momentum=0.9)\n",
    "        history = []\n",
    "\n",
    "        for epoch in range(epochs):\n",
    "          losses = []\n",
    "          accs = []\n",
    "          for batch in tqdm(dataloader):\n",
    "            loss, acc = self._process_batch(batch)\n",
    "            loss.backward()\n",
    "            optimizer.step()\n",
    "            optimizer.zero_grad()\n",
    "            loss.detach()\n",
    "            losses.append(loss)\n",
    "            accs.append(acc)\n",
    "          avg_loss = torch.stack(losses).mean().item()\n",
    "          avg_acc = torch.stack(accs).mean().item()\n",
    "          history.append((avg_loss, avg_acc))\n",
    "          print('After Epoch  {}, train_loss = {},  train_acc = {}\\n'.format(epoch+1, round(avg_loss, 4),round(avg_acc, 4)))\n",
    "        return history\n",
    "\n",
    "    def evaluate(self, dataset, batch_size=32):\n",
    "        dataloader = DeviceDataLoader(DataLoader(dataset, batch_size), device)\n",
    "        losses = []\n",
    "        accs = []\n",
    "        with torch.no_grad():\n",
    "          for batch in dataloader:\n",
    "            loss, acc= self._process_batch(batch)\n",
    "            losses.append(loss)\n",
    "            accs.append(acc)\n",
    "        avg_loss = torch.stack(losses).mean().item()\n",
    "        avg_acc = torch.stack(accs).mean().item()\n",
    "        return (avg_loss, avg_acc) \n",
    "    \n",
    "    def getPrediction(self, dataset, batch_size=32):\n",
    "        dataloader = DeviceDataLoader(DataLoader(dataset, batch_size), device)\n",
    "        prediction = []\n",
    "        with torch.no_grad():\n",
    "          for batch in tqdm(dataloader):\n",
    "            images, labels = batch\n",
    "            outputs,_ = self.model(images)\n",
    "            _, outputs = torch.max(outputs, dim=1)\n",
    "            prediction = prediction + list(outputs)\n",
    "        return prediction\n",
    "                \n",
    "\n",
    "            "
   ]
  },
  {
   "cell_type": "code",
   "execution_count": 14,
   "metadata": {
    "colab": {
     "base_uri": "https://localhost:8080/"
    },
    "id": "3IhcfFJ1KxZp",
    "outputId": "1b611ecb-a9fa-47c1-a76b-a39db9f4b005"
   },
   "outputs": [
    {
     "name": "stderr",
     "output_type": "stream",
     "text": [
      "100%|██████████| 593/593 [06:49<00:00,  1.45it/s]\n",
      "  0%|          | 0/593 [00:00<?, ?it/s]"
     ]
    },
    {
     "name": "stdout",
     "output_type": "stream",
     "text": [
      "After Epoch  1, train_loss = 0.6906,  train_acc = 0.5266\n",
      "\n"
     ]
    },
    {
     "name": "stderr",
     "output_type": "stream",
     "text": [
      "100%|██████████| 593/593 [05:45<00:00,  1.72it/s]\n",
      "  0%|          | 0/593 [00:00<?, ?it/s]"
     ]
    },
    {
     "name": "stdout",
     "output_type": "stream",
     "text": [
      "After Epoch  2, train_loss = 0.6271,  train_acc = 0.6582\n",
      "\n"
     ]
    },
    {
     "name": "stderr",
     "output_type": "stream",
     "text": [
      "100%|██████████| 593/593 [04:52<00:00,  2.03it/s]\n",
      "  0%|          | 1/593 [00:00<01:30,  6.55it/s]"
     ]
    },
    {
     "name": "stdout",
     "output_type": "stream",
     "text": [
      "After Epoch  3, train_loss = 0.5471,  train_acc = 0.7223\n",
      "\n"
     ]
    },
    {
     "name": "stderr",
     "output_type": "stream",
     "text": [
      "100%|██████████| 593/593 [02:44<00:00,  3.60it/s]\n",
      "  0%|          | 0/593 [00:00<?, ?it/s]"
     ]
    },
    {
     "name": "stdout",
     "output_type": "stream",
     "text": [
      "After Epoch  4, train_loss = 0.4363,  train_acc = 0.7987\n",
      "\n"
     ]
    },
    {
     "name": "stderr",
     "output_type": "stream",
     "text": [
      "100%|██████████| 593/593 [02:11<00:00,  4.52it/s]\n",
      "  0%|          | 0/593 [00:00<?, ?it/s]"
     ]
    },
    {
     "name": "stdout",
     "output_type": "stream",
     "text": [
      "After Epoch  5, train_loss = 0.3594,  train_acc = 0.8409\n",
      "\n"
     ]
    },
    {
     "name": "stderr",
     "output_type": "stream",
     "text": [
      "100%|██████████| 593/593 [02:10<00:00,  4.54it/s]\n",
      "  0%|          | 0/593 [00:00<?, ?it/s]"
     ]
    },
    {
     "name": "stdout",
     "output_type": "stream",
     "text": [
      "After Epoch  6, train_loss = 0.3163,  train_acc = 0.8612\n",
      "\n"
     ]
    },
    {
     "name": "stderr",
     "output_type": "stream",
     "text": [
      "100%|██████████| 593/593 [02:10<00:00,  4.56it/s]\n",
      "  0%|          | 0/593 [00:00<?, ?it/s]"
     ]
    },
    {
     "name": "stdout",
     "output_type": "stream",
     "text": [
      "After Epoch  7, train_loss = 0.2907,  train_acc = 0.8731\n",
      "\n"
     ]
    },
    {
     "name": "stderr",
     "output_type": "stream",
     "text": [
      "100%|██████████| 593/593 [02:11<00:00,  4.50it/s]\n",
      "  0%|          | 1/593 [00:00<01:42,  5.80it/s]"
     ]
    },
    {
     "name": "stdout",
     "output_type": "stream",
     "text": [
      "After Epoch  8, train_loss = 0.2719,  train_acc = 0.8835\n",
      "\n"
     ]
    },
    {
     "name": "stderr",
     "output_type": "stream",
     "text": [
      "100%|██████████| 593/593 [02:13<00:00,  4.45it/s]\n",
      "  0%|          | 0/593 [00:00<?, ?it/s]"
     ]
    },
    {
     "name": "stdout",
     "output_type": "stream",
     "text": [
      "After Epoch  9, train_loss = 0.2581,  train_acc = 0.8911\n",
      "\n"
     ]
    },
    {
     "name": "stderr",
     "output_type": "stream",
     "text": [
      "100%|██████████| 593/593 [02:11<00:00,  4.50it/s]\n",
      "  0%|          | 0/593 [00:00<?, ?it/s]"
     ]
    },
    {
     "name": "stdout",
     "output_type": "stream",
     "text": [
      "After Epoch  10, train_loss = 0.2437,  train_acc = 0.8966\n",
      "\n"
     ]
    },
    {
     "name": "stderr",
     "output_type": "stream",
     "text": [
      "100%|██████████| 593/593 [02:12<00:00,  4.49it/s]\n",
      "  0%|          | 0/593 [00:00<?, ?it/s]"
     ]
    },
    {
     "name": "stdout",
     "output_type": "stream",
     "text": [
      "After Epoch  11, train_loss = 0.2308,  train_acc = 0.9055\n",
      "\n"
     ]
    },
    {
     "name": "stderr",
     "output_type": "stream",
     "text": [
      "100%|██████████| 593/593 [02:11<00:00,  4.51it/s]\n",
      "  0%|          | 1/593 [00:00<01:24,  7.01it/s]"
     ]
    },
    {
     "name": "stdout",
     "output_type": "stream",
     "text": [
      "After Epoch  12, train_loss = 0.2185,  train_acc = 0.9102\n",
      "\n"
     ]
    },
    {
     "name": "stderr",
     "output_type": "stream",
     "text": [
      "100%|██████████| 593/593 [02:13<00:00,  4.45it/s]\n",
      "  0%|          | 0/593 [00:00<?, ?it/s]"
     ]
    },
    {
     "name": "stdout",
     "output_type": "stream",
     "text": [
      "After Epoch  13, train_loss = 0.2052,  train_acc = 0.9185\n",
      "\n"
     ]
    },
    {
     "name": "stderr",
     "output_type": "stream",
     "text": [
      "100%|██████████| 593/593 [02:10<00:00,  4.53it/s]\n",
      "  0%|          | 0/593 [00:00<?, ?it/s]"
     ]
    },
    {
     "name": "stdout",
     "output_type": "stream",
     "text": [
      "After Epoch  14, train_loss = 0.1932,  train_acc = 0.9243\n",
      "\n"
     ]
    },
    {
     "name": "stderr",
     "output_type": "stream",
     "text": [
      "100%|██████████| 593/593 [02:13<00:00,  4.44it/s]\n",
      "  0%|          | 0/593 [00:00<?, ?it/s]"
     ]
    },
    {
     "name": "stdout",
     "output_type": "stream",
     "text": [
      "After Epoch  15, train_loss = 0.1859,  train_acc = 0.927\n",
      "\n"
     ]
    },
    {
     "name": "stderr",
     "output_type": "stream",
     "text": [
      "100%|██████████| 593/593 [02:10<00:00,  4.54it/s]\n",
      "  0%|          | 0/593 [00:00<?, ?it/s]"
     ]
    },
    {
     "name": "stdout",
     "output_type": "stream",
     "text": [
      "After Epoch  16, train_loss = 0.1694,  train_acc = 0.9336\n",
      "\n"
     ]
    },
    {
     "name": "stderr",
     "output_type": "stream",
     "text": [
      "100%|██████████| 593/593 [02:12<00:00,  4.48it/s]\n",
      "  0%|          | 0/593 [00:00<?, ?it/s]"
     ]
    },
    {
     "name": "stdout",
     "output_type": "stream",
     "text": [
      "After Epoch  17, train_loss = 0.1571,  train_acc = 0.9401\n",
      "\n"
     ]
    },
    {
     "name": "stderr",
     "output_type": "stream",
     "text": [
      "100%|██████████| 593/593 [02:12<00:00,  4.48it/s]\n",
      "  0%|          | 0/593 [00:00<?, ?it/s]"
     ]
    },
    {
     "name": "stdout",
     "output_type": "stream",
     "text": [
      "After Epoch  18, train_loss = 0.1455,  train_acc = 0.9464\n",
      "\n"
     ]
    },
    {
     "name": "stderr",
     "output_type": "stream",
     "text": [
      "100%|██████████| 593/593 [02:11<00:00,  4.51it/s]\n",
      "  0%|          | 0/593 [00:00<?, ?it/s]"
     ]
    },
    {
     "name": "stdout",
     "output_type": "stream",
     "text": [
      "After Epoch  19, train_loss = 0.1365,  train_acc = 0.9476\n",
      "\n"
     ]
    },
    {
     "name": "stderr",
     "output_type": "stream",
     "text": [
      "100%|██████████| 593/593 [02:12<00:00,  4.47it/s]\n",
      "  0%|          | 1/593 [00:00<01:43,  5.75it/s]"
     ]
    },
    {
     "name": "stdout",
     "output_type": "stream",
     "text": [
      "After Epoch  20, train_loss = 0.1236,  train_acc = 0.9537\n",
      "\n"
     ]
    },
    {
     "name": "stderr",
     "output_type": "stream",
     "text": [
      "100%|██████████| 593/593 [02:04<00:00,  4.78it/s]\n",
      "  0%|          | 0/593 [00:00<?, ?it/s]"
     ]
    },
    {
     "name": "stdout",
     "output_type": "stream",
     "text": [
      "After Epoch  21, train_loss = 0.1137,  train_acc = 0.9586\n",
      "\n"
     ]
    },
    {
     "name": "stderr",
     "output_type": "stream",
     "text": [
      "100%|██████████| 593/593 [02:14<00:00,  4.42it/s]\n",
      "  0%|          | 0/593 [00:00<?, ?it/s]"
     ]
    },
    {
     "name": "stdout",
     "output_type": "stream",
     "text": [
      "After Epoch  22, train_loss = 0.1016,  train_acc = 0.9617\n",
      "\n"
     ]
    },
    {
     "name": "stderr",
     "output_type": "stream",
     "text": [
      "100%|██████████| 593/593 [02:17<00:00,  4.33it/s]\n",
      "  0%|          | 0/593 [00:00<?, ?it/s]"
     ]
    },
    {
     "name": "stdout",
     "output_type": "stream",
     "text": [
      "After Epoch  23, train_loss = 0.0945,  train_acc = 0.9663\n",
      "\n"
     ]
    },
    {
     "name": "stderr",
     "output_type": "stream",
     "text": [
      "100%|██████████| 593/593 [02:15<00:00,  4.39it/s]\n",
      "  0%|          | 0/593 [00:00<?, ?it/s]"
     ]
    },
    {
     "name": "stdout",
     "output_type": "stream",
     "text": [
      "After Epoch  24, train_loss = 0.0848,  train_acc = 0.9705\n",
      "\n"
     ]
    },
    {
     "name": "stderr",
     "output_type": "stream",
     "text": [
      "100%|██████████| 593/593 [02:30<00:00,  3.94it/s]\n",
      "  0%|          | 0/593 [00:00<?, ?it/s]"
     ]
    },
    {
     "name": "stdout",
     "output_type": "stream",
     "text": [
      "After Epoch  25, train_loss = 0.0745,  train_acc = 0.9737\n",
      "\n"
     ]
    },
    {
     "name": "stderr",
     "output_type": "stream",
     "text": [
      "100%|██████████| 593/593 [02:30<00:00,  3.94it/s]\n",
      "  0%|          | 0/593 [00:00<?, ?it/s]"
     ]
    },
    {
     "name": "stdout",
     "output_type": "stream",
     "text": [
      "After Epoch  26, train_loss = 0.0688,  train_acc = 0.9762\n",
      "\n"
     ]
    },
    {
     "name": "stderr",
     "output_type": "stream",
     "text": [
      "100%|██████████| 593/593 [02:22<00:00,  4.17it/s]\n",
      "  0%|          | 0/593 [00:00<?, ?it/s]"
     ]
    },
    {
     "name": "stdout",
     "output_type": "stream",
     "text": [
      "After Epoch  27, train_loss = 0.0632,  train_acc = 0.9783\n",
      "\n"
     ]
    },
    {
     "name": "stderr",
     "output_type": "stream",
     "text": [
      "100%|██████████| 593/593 [02:35<00:00,  3.82it/s]\n",
      "  0%|          | 0/593 [00:00<?, ?it/s]"
     ]
    },
    {
     "name": "stdout",
     "output_type": "stream",
     "text": [
      "After Epoch  28, train_loss = 0.0566,  train_acc = 0.9798\n",
      "\n"
     ]
    },
    {
     "name": "stderr",
     "output_type": "stream",
     "text": [
      "100%|██████████| 593/593 [02:34<00:00,  3.84it/s]\n",
      "  0%|          | 0/593 [00:00<?, ?it/s]"
     ]
    },
    {
     "name": "stdout",
     "output_type": "stream",
     "text": [
      "After Epoch  29, train_loss = 0.0532,  train_acc = 0.9819\n",
      "\n"
     ]
    },
    {
     "name": "stderr",
     "output_type": "stream",
     "text": [
      "100%|██████████| 593/593 [02:37<00:00,  3.76it/s]\n",
      "  0%|          | 0/593 [00:00<?, ?it/s]"
     ]
    },
    {
     "name": "stdout",
     "output_type": "stream",
     "text": [
      "After Epoch  30, train_loss = 0.0496,  train_acc = 0.9832\n",
      "\n"
     ]
    },
    {
     "name": "stderr",
     "output_type": "stream",
     "text": [
      "100%|██████████| 593/593 [02:37<00:00,  3.75it/s]\n",
      "  0%|          | 0/593 [00:00<?, ?it/s]"
     ]
    },
    {
     "name": "stdout",
     "output_type": "stream",
     "text": [
      "After Epoch  31, train_loss = 0.0414,  train_acc = 0.9851\n",
      "\n"
     ]
    },
    {
     "name": "stderr",
     "output_type": "stream",
     "text": [
      "100%|██████████| 593/593 [02:15<00:00,  4.38it/s]\n",
      "  0%|          | 0/593 [00:00<?, ?it/s]"
     ]
    },
    {
     "name": "stdout",
     "output_type": "stream",
     "text": [
      "After Epoch  32, train_loss = 0.0417,  train_acc = 0.9875\n",
      "\n"
     ]
    },
    {
     "name": "stderr",
     "output_type": "stream",
     "text": [
      "100%|██████████| 593/593 [02:25<00:00,  4.09it/s]\n",
      "  0%|          | 0/593 [00:00<?, ?it/s]"
     ]
    },
    {
     "name": "stdout",
     "output_type": "stream",
     "text": [
      "After Epoch  33, train_loss = 0.0362,  train_acc = 0.9882\n",
      "\n"
     ]
    },
    {
     "name": "stderr",
     "output_type": "stream",
     "text": [
      "100%|██████████| 593/593 [02:16<00:00,  4.34it/s]\n",
      "  0%|          | 0/593 [00:00<?, ?it/s]"
     ]
    },
    {
     "name": "stdout",
     "output_type": "stream",
     "text": [
      "After Epoch  34, train_loss = 0.0382,  train_acc = 0.9891\n",
      "\n"
     ]
    },
    {
     "name": "stderr",
     "output_type": "stream",
     "text": [
      "100%|██████████| 593/593 [02:16<00:00,  4.35it/s]\n",
      "  0%|          | 0/593 [00:00<?, ?it/s]"
     ]
    },
    {
     "name": "stdout",
     "output_type": "stream",
     "text": [
      "After Epoch  35, train_loss = 0.0318,  train_acc = 0.9901\n",
      "\n"
     ]
    },
    {
     "name": "stderr",
     "output_type": "stream",
     "text": [
      "100%|██████████| 593/593 [02:18<00:00,  4.28it/s]\n",
      "  0%|          | 0/593 [00:00<?, ?it/s]"
     ]
    },
    {
     "name": "stdout",
     "output_type": "stream",
     "text": [
      "After Epoch  36, train_loss = 0.0291,  train_acc = 0.9918\n",
      "\n"
     ]
    },
    {
     "name": "stderr",
     "output_type": "stream",
     "text": [
      "100%|██████████| 593/593 [02:15<00:00,  4.38it/s]\n",
      "  0%|          | 0/593 [00:00<?, ?it/s]"
     ]
    },
    {
     "name": "stdout",
     "output_type": "stream",
     "text": [
      "After Epoch  37, train_loss = 0.0301,  train_acc = 0.9916\n",
      "\n"
     ]
    },
    {
     "name": "stderr",
     "output_type": "stream",
     "text": [
      "100%|██████████| 593/593 [02:12<00:00,  4.48it/s]\n",
      "  0%|          | 1/593 [00:00<01:42,  5.79it/s]"
     ]
    },
    {
     "name": "stdout",
     "output_type": "stream",
     "text": [
      "After Epoch  38, train_loss = 0.0286,  train_acc = 0.9928\n",
      "\n"
     ]
    },
    {
     "name": "stderr",
     "output_type": "stream",
     "text": [
      "100%|██████████| 593/593 [02:13<00:00,  4.44it/s]\n",
      "  0%|          | 0/593 [00:00<?, ?it/s]"
     ]
    },
    {
     "name": "stdout",
     "output_type": "stream",
     "text": [
      "After Epoch  39, train_loss = 0.0251,  train_acc = 0.9936\n",
      "\n"
     ]
    },
    {
     "name": "stderr",
     "output_type": "stream",
     "text": [
      "100%|██████████| 593/593 [02:11<00:00,  4.53it/s]\n",
      "  0%|          | 1/593 [00:00<01:42,  5.80it/s]"
     ]
    },
    {
     "name": "stdout",
     "output_type": "stream",
     "text": [
      "After Epoch  40, train_loss = 0.0282,  train_acc = 0.9922\n",
      "\n"
     ]
    },
    {
     "name": "stderr",
     "output_type": "stream",
     "text": [
      "100%|██████████| 593/593 [02:12<00:00,  4.49it/s]\n",
      "  0%|          | 1/593 [00:00<01:50,  5.38it/s]"
     ]
    },
    {
     "name": "stdout",
     "output_type": "stream",
     "text": [
      "After Epoch  41, train_loss = 0.021,  train_acc = 0.9952\n",
      "\n"
     ]
    },
    {
     "name": "stderr",
     "output_type": "stream",
     "text": [
      "100%|██████████| 593/593 [02:09<00:00,  4.58it/s]\n",
      "  0%|          | 1/593 [00:00<01:51,  5.32it/s]"
     ]
    },
    {
     "name": "stdout",
     "output_type": "stream",
     "text": [
      "After Epoch  42, train_loss = 0.0224,  train_acc = 0.9947\n",
      "\n"
     ]
    },
    {
     "name": "stderr",
     "output_type": "stream",
     "text": [
      "100%|██████████| 593/593 [02:12<00:00,  4.47it/s]\n",
      "  0%|          | 0/593 [00:00<?, ?it/s]"
     ]
    },
    {
     "name": "stdout",
     "output_type": "stream",
     "text": [
      "After Epoch  43, train_loss = 0.0236,  train_acc = 0.9946\n",
      "\n"
     ]
    },
    {
     "name": "stderr",
     "output_type": "stream",
     "text": [
      "100%|██████████| 593/593 [02:13<00:00,  4.43it/s]\n",
      "  0%|          | 1/593 [00:00<01:25,  6.93it/s]"
     ]
    },
    {
     "name": "stdout",
     "output_type": "stream",
     "text": [
      "After Epoch  44, train_loss = 0.0194,  train_acc = 0.9955\n",
      "\n"
     ]
    },
    {
     "name": "stderr",
     "output_type": "stream",
     "text": [
      "100%|██████████| 593/593 [02:11<00:00,  4.50it/s]\n",
      "  0%|          | 0/593 [00:00<?, ?it/s]"
     ]
    },
    {
     "name": "stdout",
     "output_type": "stream",
     "text": [
      "After Epoch  45, train_loss = 0.0197,  train_acc = 0.9963\n",
      "\n"
     ]
    },
    {
     "name": "stderr",
     "output_type": "stream",
     "text": [
      "100%|██████████| 593/593 [02:12<00:00,  4.48it/s]\n",
      "  0%|          | 0/593 [00:00<?, ?it/s]"
     ]
    },
    {
     "name": "stdout",
     "output_type": "stream",
     "text": [
      "After Epoch  46, train_loss = 0.021,  train_acc = 0.9952\n",
      "\n"
     ]
    },
    {
     "name": "stderr",
     "output_type": "stream",
     "text": [
      "100%|██████████| 593/593 [02:13<00:00,  4.44it/s]\n",
      "  0%|          | 0/593 [00:00<?, ?it/s]"
     ]
    },
    {
     "name": "stdout",
     "output_type": "stream",
     "text": [
      "After Epoch  47, train_loss = 0.0196,  train_acc = 0.9957\n",
      "\n"
     ]
    },
    {
     "name": "stderr",
     "output_type": "stream",
     "text": [
      "100%|██████████| 593/593 [02:15<00:00,  4.37it/s]\n",
      "  0%|          | 0/593 [00:00<?, ?it/s]"
     ]
    },
    {
     "name": "stdout",
     "output_type": "stream",
     "text": [
      "After Epoch  48, train_loss = 0.0181,  train_acc = 0.9963\n",
      "\n"
     ]
    },
    {
     "name": "stderr",
     "output_type": "stream",
     "text": [
      "100%|██████████| 593/593 [02:16<00:00,  4.36it/s]\n",
      "  0%|          | 0/593 [00:00<?, ?it/s]"
     ]
    },
    {
     "name": "stdout",
     "output_type": "stream",
     "text": [
      "After Epoch  49, train_loss = 0.0216,  train_acc = 0.9957\n",
      "\n"
     ]
    },
    {
     "name": "stderr",
     "output_type": "stream",
     "text": [
      "100%|██████████| 593/593 [02:18<00:00,  4.27it/s]"
     ]
    },
    {
     "name": "stdout",
     "output_type": "stream",
     "text": [
      "After Epoch  50, train_loss = 0.0153,  train_acc = 0.9966\n",
      "\n"
     ]
    },
    {
     "name": "stderr",
     "output_type": "stream",
     "text": [
      "\n"
     ]
    }
   ],
   "source": [
    "net = Network()\n",
    "batch_size = 32\n",
    "epochs = 50\n",
    "lr = 2e-2\n",
    "device = get_device()\n",
    "history = net.fit(train_data, epochs, lr, batch_size, opt=torch.optim.SGD)\n"
   ]
  },
  {
   "cell_type": "code",
   "execution_count": 15,
   "metadata": {
    "id": "dS-8IIPGeTHj"
   },
   "outputs": [],
   "source": [
    "torch.save(net.model.state_dict(), 'LCNN_model_weights.pth')"
   ]
  },
  {
   "cell_type": "code",
   "execution_count": 70,
   "metadata": {
    "id": "gTqx-SJxNI0E"
   },
   "outputs": [
    {
     "data": {
      "text/plain": [
       "<All keys matched successfully>"
      ]
     },
     "execution_count": 70,
     "metadata": {},
     "output_type": "execute_result"
    }
   ],
   "source": [
    "net = Network()\n",
    "net.model.load_state_dict(torch.load('LCNN_model_weights.pth'))"
   ]
  },
  {
   "cell_type": "code",
   "execution_count": 20,
   "metadata": {},
   "outputs": [],
   "source": [
    "LCNN_history = history"
   ]
  },
  {
   "cell_type": "code",
   "execution_count": 26,
   "metadata": {},
   "outputs": [],
   "source": [
    "t = [i + 1 for i in range(len(LCNN_history))]\n",
    "data1 = [LCNN_history[i][0] for i in range(len(LCNN_history))]\n",
    "data2 = [LCNN_history[i][1] for i in range(len(LCNN_history))]"
   ]
  },
  {
   "cell_type": "code",
   "execution_count": 33,
   "metadata": {},
   "outputs": [
    {
     "data": {
      "image/png": "[encoded data removed]",
      "text/plain": [
       "<Figure size 432x288 with 1 Axes>"
      ]
     },
     "metadata": {
      "needs_background": "light"
     },
     "output_type": "display_data"
    }
   ],
   "source": [
    "plt.plot(t, data1, color='r')\n",
    "plt.xlabel('Epochs')\n",
    "plt.ylabel('Loss')\n",
    "plt.title('Training history')\n",
    "plt.show()"
   ]
  },
  {
   "cell_type": "code",
   "execution_count": 35,
   "metadata": {},
   "outputs": [
    {
     "data": {
      "image/png": "[encoded data removed]",
      "text/plain": [
       "<Figure size 432x288 with 1 Axes>"
      ]
     },
     "metadata": {
      "needs_background": "light"
     },
     "output_type": "display_data"
    }
   ],
   "source": [
    "plt.plot(t, data2, color='b')\n",
    "plt.xlabel('Epochs')\n",
    "plt.ylabel('Accuracy')\n",
    "plt.title('Training history')\n",
    "plt.show()"
   ]
  },
  {
   "cell_type": "markdown",
   "metadata": {},
   "source": [
    "## 1. Testing performance across all the age groups and race categories."
   ]
  },
  {
   "cell_type": "markdown",
   "metadata": {},
   "source": [
    "Testing Accuracy"
   ]
  },
  {
   "cell_type": "code",
   "execution_count": 55,
   "metadata": {},
   "outputs": [],
   "source": [
    "_,acc = net.evaluate(test_data, batch_size=32)"
   ]
  },
  {
   "cell_type": "code",
   "execution_count": 56,
   "metadata": {},
   "outputs": [
    {
     "name": "stdout",
     "output_type": "stream",
     "text": [
      "Testing Accuracy :  0.89\n"
     ]
    }
   ],
   "source": [
    "print(\"Testing Accuracy : \" , round(acc, 2))\n"
   ]
  },
  {
   "cell_type": "code",
   "execution_count": 71,
   "metadata": {},
   "outputs": [
    {
     "name": "stderr",
     "output_type": "stream",
     "text": [
      "100%|██████████| 149/149 [00:46<00:00,  3.23it/s]\n"
     ]
    }
   ],
   "source": [
    "prediction = net.getPrediction(test_data, batch_size=32)\n",
    "prediction = [int(prediction[i]) for i in range(len(prediction))]"
   ]
  },
  {
   "cell_type": "code",
   "execution_count": 84,
   "metadata": {},
   "outputs": [],
   "source": [
    "target = test['gender'].values\n",
    "age_category = test['age_categories'].values\n",
    "race_category = test['race'].values"
   ]
  },
  {
   "cell_type": "code",
   "execution_count": 86,
   "metadata": {
    "scrolled": true
   },
   "outputs": [
    {
     "data": {
      "text/plain": [
       "array(['asian', 'black', 'indian', 'others', 'white'], dtype=object)"
      ]
     },
     "execution_count": 86,
     "metadata": {},
     "output_type": "execute_result"
    }
   ],
   "source": [
    "np.unique(race_category)"
   ]
  },
  {
   "cell_type": "code",
   "execution_count": 90,
   "metadata": {},
   "outputs": [],
   "source": [
    "# Calculating accuracy across all age group\n",
    "age_group = {'children':0,'adult':0,'young':0,'old':0}\n",
    "age_group_total = {'children':0,'adult':0,'young':0,'old':0}\n",
    "\n",
    "race_group = {'asian':0, 'black':0, 'indian':0, 'others':0, 'white':0}\n",
    "race_group_total = {'asian':0, 'black':0, 'indian':0, 'others':0, 'white':0}\n",
    "\n",
    "for i in range(len(target)):\n",
    "    age_group_total[age_categories[i]] +=1\n",
    "    race_group_total[race_category[i]] +=1\n",
    "    \n",
    "    if(target[i] == prediction[i]):\n",
    "        age_group[age_categories[i]] +=1\n",
    "        race_group[race_category[i]] +=1"
   ]
  },
  {
   "cell_type": "code",
   "execution_count": 106,
   "metadata": {},
   "outputs": [],
   "source": [
    "data1 = []\n",
    "for i in age_group.keys():\n",
    "    temp = round(age_group[i]/age_group_total[i],2)\n",
    "    data1.append([i,temp])\n",
    "    \n",
    "data2 = []\n",
    "for i in race_group.keys():\n",
    "    temp = round(race_group[i]/race_group_total[i],2)\n",
    "    data2.append([i,temp])\n",
    "    "
   ]
  },
  {
   "cell_type": "code",
   "execution_count": 107,
   "metadata": {},
   "outputs": [
    {
     "name": "stdout",
     "output_type": "stream",
     "text": [
      "Age Group      Test Accuracy\n",
      "-----------  ---------------\n",
      "children                0.89\n",
      "adult                   0.88\n",
      "young                   0.9\n",
      "old                     0.92\n"
     ]
    }
   ],
   "source": [
    "print(tabulate(data1, headers=[\"Age Group\", \"Test Accuracy\"]))"
   ]
  },
  {
   "cell_type": "code",
   "execution_count": 109,
   "metadata": {},
   "outputs": [
    {
     "name": "stdout",
     "output_type": "stream",
     "text": [
      "Race      Test Accuracy\n",
      "------  ---------------\n",
      "asian              0.85\n",
      "black              0.91\n",
      "indian             0.91\n",
      "others             0.9\n",
      "white              0.89\n"
     ]
    }
   ],
   "source": [
    "print(tabulate(data2, headers=[\"Race\", \"Test Accuracy\"]))"
   ]
  },
  {
   "cell_type": "markdown",
   "metadata": {},
   "source": [
    "## 2. ROC curve"
   ]
  },
  {
   "cell_type": "code",
   "execution_count": 118,
   "metadata": {},
   "outputs": [
    {
     "data": {
      "image/png": "[encoded data removed]",
      "text/plain": [
       "<Figure size 640x480 with 1 Axes>"
      ]
     },
     "metadata": {},
     "output_type": "display_data"
    }
   ],
   "source": [
    "\n",
    "from sklearn.metrics import roc_curve\n",
    "fpr, tpr, thresh1 = roc_curve(target, prediction, pos_label=1)\n",
    "\n",
    "plt.figure(num=None, figsize=(8, 6), dpi=80, facecolor='w', edgecolor='k')\n",
    "\n",
    "plt.plot(fpr,tpr)\n",
    "plt.xlabel(\"FPR\")\n",
    "plt.ylabel(\"TPR\")\n",
    "plt.title('ROC CURVE')\n",
    "plt.savefig('./ROC_CURVE')\n",
    "plt.show()\n"
   ]
  },
  {
   "cell_type": "markdown",
   "metadata": {},
   "source": [
    "## 3. Draw the Precision-Recall curve.\n"
   ]
  },
  {
   "cell_type": "code",
   "execution_count": 119,
   "metadata": {},
   "outputs": [
    {
     "data": {
      "image/png": "[encoded data removed]",
      "text/plain": [
       "<Figure size 640x480 with 1 Axes>"
      ]
     },
     "metadata": {},
     "output_type": "display_data"
    }
   ],
   "source": [
    "from  sklearn.metrics import precision_recall_curve\n",
    "\n",
    "precision, recall, thresholds = precision_recall_curve(prediction, target)\n",
    "\n",
    "plt.figure(num=None, figsize=(8, 6), dpi=80, facecolor='w', edgecolor='k')\n",
    "\n",
    "plt.plot(precision,recall)\n",
    "plt.xlabel(\"Recall\")\n",
    "plt.ylabel(\"Precision\")\n",
    "plt.title('Precision-Recall Curve')\n",
    "plt.savefig('./PRC_CURVE')\n",
    "plt.show()"
   ]
  },
  {
   "cell_type": "markdown",
   "metadata": {},
   "source": [
    "## 6. Change the loss function to focal loss for LCNN. Now compare the results with previous loss function that you have used ?"
   ]
  },
  {
   "cell_type": "code",
   "execution_count": 121,
   "metadata": {},
   "outputs": [],
   "source": [
    "## Reference : https://github.com/clcarwin/focal_loss_pytorch/blob/master/focalloss.py\n",
    "\n",
    "class FocalLoss(nn.Module):\n",
    "    def __init__(self, gamma=0, alpha=None, size_average=True):\n",
    "        super(FocalLoss, self).__init__()\n",
    "        self.gamma = gamma\n",
    "        self.alpha = alpha\n",
    "        if isinstance(alpha,(float,int)): self.alpha = torch.Tensor([alpha,1-alpha])\n",
    "        if isinstance(alpha,list): self.alpha = torch.Tensor(alpha)\n",
    "        self.size_average = size_average\n",
    "\n",
    "    def forward(self, input, target):\n",
    "        if input.dim()>2:\n",
    "            input = input.view(input.size(0),input.size(1),-1)  # N,C,H,W => N,C,H*W\n",
    "            input = input.transpose(1,2)    # N,C,H*W => N,H*W,C\n",
    "            input = input.contiguous().view(-1,input.size(2))   # N,H*W,C => N*H*W,C\n",
    "        target = target.view(-1,1)\n",
    "\n",
    "        logpt = F.log_softmax(input)\n",
    "        logpt = logpt.gather(1,target)\n",
    "        logpt = logpt.view(-1)\n",
    "        pt = Variable(logpt.data.exp())\n",
    "\n",
    "        if self.alpha is not None:\n",
    "            if self.alpha.type()!=input.data.type():\n",
    "                self.alpha = self.alpha.type_as(input.data)\n",
    "            at = self.alpha.gather(0,target.data.view(-1))\n",
    "            logpt = logpt * Variable(at)\n",
    "\n",
    "        loss = -1 * (1-pt)**self.gamma * logpt\n",
    "        if self.size_average: return loss.mean()\n",
    "        else: return loss.sum()"
   ]
  },
  {
   "cell_type": "code",
   "execution_count": null,
   "metadata": {},
   "outputs": [],
   "source": [
    "class Network():   \n",
    "    model = None \n",
    "    def __init__(self):\n",
    "        self.model = network_9layers()\n",
    "        self.model.to(get_device())\n",
    "           \n",
    "    def batch_accuracy(self, outputs, labels):\n",
    "        with torch.no_grad():\n",
    "          _, predictions = torch.max(outputs, dim=1)\n",
    "          return torch.tensor(torch.sum(predictions == labels).item() / len(predictions))\n",
    "\n",
    "    def _process_batch(self, batch):\n",
    "        images, labels = batch\n",
    "        outputs,_ = self.model(images)\n",
    "        labels = torch.tensor(labels, dtype=torch.long, device=device)\n",
    "        lossfun = FocalLoss()\n",
    "        loss = lossfun.forward(outputs, labels)\n",
    "        accuracy = self.batch_accuracy(outputs, labels)\n",
    "        return (loss, accuracy)\n",
    "\n",
    "    def fit(self, dataset, epochs, lr, batch_size, opt=torch.optim.SGD):\n",
    "        dataloader = DeviceDataLoader(DataLoader(dataset, batch_size, shuffle=True), device)\n",
    "        optimizer = torch.optim.SGD(self.model.parameters(), lr=0.001, momentum=0.9)\n",
    "        history = []\n",
    "\n",
    "        for epoch in range(epochs):\n",
    "          losses = []\n",
    "          accs = []\n",
    "          for batch in tqdm(dataloader):\n",
    "            loss, acc = self._process_batch(batch)\n",
    "            loss.backward()\n",
    "            optimizer.step()\n",
    "            optimizer.zero_grad()\n",
    "            loss.detach()\n",
    "            losses.append(loss)\n",
    "            accs.append(acc)\n",
    "          avg_loss = torch.stack(losses).mean().item()\n",
    "          avg_acc = torch.stack(accs).mean().item()\n",
    "          history.append((avg_loss, avg_acc))\n",
    "          print('After Epoch  {}, train_loss = {},  train_acc = {}\\n'.format(epoch+1, round(avg_loss, 4),round(avg_acc, 4)))\n",
    "        return history\n",
    "\n",
    "    def evaluate(self, dataset, batch_size=32):\n",
    "        dataloader = DeviceDataLoader(DataLoader(dataset, batch_size), device)\n",
    "        losses = []\n",
    "        accs = []\n",
    "        with torch.no_grad():\n",
    "          for batch in dataloader:\n",
    "            loss, acc= self._process_batch(batch)\n",
    "            losses.append(loss)\n",
    "            accs.append(acc)\n",
    "        avg_loss = torch.stack(losses).mean().item()\n",
    "        avg_acc = torch.stack(accs).mean().item()\n",
    "        return (avg_loss, avg_acc) \n",
    "    \n",
    "    def getPrediction(self, dataset, batch_size=32):\n",
    "        dataloader = DeviceDataLoader(DataLoader(dataset, batch_size), device)\n",
    "        prediction = []\n",
    "        with torch.no_grad():\n",
    "          for batch in tqdm(dataloader):\n",
    "            images, labels = batch\n",
    "            outputs,_ = self.model(images)\n",
    "            _, outputs = torch.max(outputs, dim=1)\n",
    "            prediction = prediction + list(outputs)\n",
    "        return prediction"
   ]
  },
  {
   "cell_type": "markdown",
   "metadata": {},
   "source": [
    "# Classification using Linear SVM"
   ]
  },
  {
   "cell_type": "code",
   "execution_count": 30,
   "metadata": {},
   "outputs": [],
   "source": [
    "from sklearn.model_selection import train_test_split\n",
    "from sklearn.metrics import f1_score,accuracy_score\n",
    "\n",
    "from sklearn.svm import LinearSVC\n",
    "from sklearn.pipeline import make_pipeline\n",
    "from sklearn.preprocessing import StandardScaler"
   ]
  },
  {
   "cell_type": "code",
   "execution_count": 22,
   "metadata": {},
   "outputs": [
    {
     "name": "stderr",
     "output_type": "stream",
     "text": [
      "100%|██████████| 23705/23705 [10:50<00:00, 36.45it/s]\n"
     ]
    }
   ],
   "source": [
    "image_path = df['file'].values\n",
    "num_sample = len(image_path)\n",
    "x = []\n",
    "\n",
    "for i in tqdm(range(len(image_path))):\n",
    "    temp = Image.open(image_path[i]).convert('L')\n",
    "    temp = np.array(temp)\n",
    "    x.append(temp)\n",
    "x = np.array(x)\n"
   ]
  },
  {
   "cell_type": "code",
   "execution_count": 23,
   "metadata": {},
   "outputs": [
    {
     "data": {
      "text/plain": [
       "(23705, 200, 200)"
      ]
     },
     "execution_count": 23,
     "metadata": {},
     "output_type": "execute_result"
    }
   ],
   "source": [
    "x.shape"
   ]
  },
  {
   "cell_type": "code",
   "execution_count": 25,
   "metadata": {},
   "outputs": [
    {
     "data": {
      "text/plain": [
       "(23705, 40000)"
      ]
     },
     "execution_count": 25,
     "metadata": {},
     "output_type": "execute_result"
    }
   ],
   "source": [
    "n_samples = x.shape[0]\n",
    "x = x.reshape((n_samples, -1))\n",
    "x.shape"
   ]
  },
  {
   "cell_type": "code",
   "execution_count": 28,
   "metadata": {},
   "outputs": [],
   "source": [
    "y = df['gender'].values"
   ]
  },
  {
   "cell_type": "code",
   "execution_count": 29,
   "metadata": {},
   "outputs": [],
   "source": [
    "X_train, X_test, y_train, y_test = train_test_split(x, y, test_size=0.2, shuffle=True)"
   ]
  },
  {
   "cell_type": "code",
   "execution_count": 32,
   "metadata": {},
   "outputs": [
    {
     "data": {
      "text/plain": [
       "Pipeline(steps=[('standardscaler', StandardScaler()),\n",
       "                ('linearsvc', LinearSVC(random_state=0, tol=1e-05))])"
      ]
     },
     "execution_count": 32,
     "metadata": {},
     "output_type": "execute_result"
    }
   ],
   "source": [
    "clf = make_pipeline(StandardScaler(),LinearSVC(random_state=0, tol=1e-5))\n",
    "clf.fit(X_train, y_train)"
   ]
  },
  {
   "cell_type": "code",
   "execution_count": 47,
   "metadata": {},
   "outputs": [],
   "source": [
    "prediction = clf.predict(X_test)\n",
    "prediction = [int(prediction[i]) for i in range(len(prediction))]"
   ]
  },
  {
   "cell_type": "code",
   "execution_count": 48,
   "metadata": {},
   "outputs": [],
   "source": [
    "acc_test= round(accuracy_score(y_test , prediction),2)"
   ]
  },
  {
   "cell_type": "code",
   "execution_count": 49,
   "metadata": {},
   "outputs": [
    {
     "name": "stdout",
     "output_type": "stream",
     "text": [
      "Test Accuracy is :  0.8\n"
     ]
    }
   ],
   "source": [
    "print(\"Test Accuracy is : \" , acc_test)"
   ]
  },
  {
   "cell_type": "code",
   "execution_count": 56,
   "metadata": {},
   "outputs": [],
   "source": [
    "target = y_test\n",
    "age_category = test['age_categories'].values\n",
    "race_category = test['race'].values"
   ]
  },
  {
   "cell_type": "code",
   "execution_count": 57,
   "metadata": {},
   "outputs": [],
   "source": [
    "# Calculating accuracy across all age group\n",
    "age_group = {'children':0,'adult':0,'young':0,'old':0}\n",
    "age_group_total = {'children':0,'adult':0,'young':0,'old':0}\n",
    "\n",
    "race_group = {'asian':0, 'black':0, 'indian':0, 'others':0, 'white':0}\n",
    "race_group_total = {'asian':0, 'black':0, 'indian':0, 'others':0, 'white':0}\n",
    "\n",
    "for i in range(len(target)):\n",
    "    age_group_total[age_categories[i]] +=1\n",
    "    race_group_total[race_category[i]] +=1\n",
    "    \n",
    "    if(target[i] == prediction[i]):\n",
    "        age_group[age_categories[i]] +=1\n",
    "        race_group[race_category[i]] +=1"
   ]
  },
  {
   "cell_type": "code",
   "execution_count": 58,
   "metadata": {},
   "outputs": [],
   "source": [
    "data1 = []\n",
    "for i in age_group.keys():\n",
    "    temp = round(age_group[i]/age_group_total[i],2)\n",
    "    data1.append([i,temp])\n",
    "    \n",
    "data2 = []\n",
    "for i in race_group.keys():\n",
    "    temp = round(race_group[i]/race_group_total[i],2)\n",
    "    data2.append([i,temp])\n",
    "    "
   ]
  },
  {
   "cell_type": "code",
   "execution_count": 59,
   "metadata": {},
   "outputs": [
    {
     "name": "stdout",
     "output_type": "stream",
     "text": [
      "Age Group      Test Accuracy\n",
      "-----------  ---------------\n",
      "children                0.8\n",
      "adult                   0.78\n",
      "young                   0.8\n",
      "old                     0.81\n"
     ]
    }
   ],
   "source": [
    "print(tabulate(data1, headers=[\"Age Group\", \"Test Accuracy\"]))"
   ]
  },
  {
   "cell_type": "code",
   "execution_count": 60,
   "metadata": {},
   "outputs": [
    {
     "name": "stdout",
     "output_type": "stream",
     "text": [
      "Age Group      Test Accuracy\n",
      "-----------  ---------------\n",
      "asian                   0.79\n",
      "black                   0.81\n",
      "indian                  0.8\n",
      "others                  0.79\n",
      "white                   0.8\n"
     ]
    }
   ],
   "source": [
    "print(tabulate(data2, headers=[\"Age Group\", \"Test Accuracy\"]))"
   ]
  },
  {
   "cell_type": "markdown",
   "metadata": {},
   "source": [
    "## ROC Curve"
   ]
  },
  {
   "cell_type": "code",
   "execution_count": 61,
   "metadata": {},
   "outputs": [
    {
     "data": {
      "image/png": "[encoded data removed]",
      "text/plain": [
       "<Figure size 640x480 with 1 Axes>"
      ]
     },
     "metadata": {},
     "output_type": "display_data"
    }
   ],
   "source": [
    "from sklearn.metrics import roc_curve\n",
    "fpr, tpr, thresh1 = roc_curve(target, prediction, pos_label=1)\n",
    "\n",
    "plt.figure(num=None, figsize=(8, 6), dpi=80, facecolor='w', edgecolor='k')\n",
    "\n",
    "plt.plot(fpr,tpr)\n",
    "plt.xlabel(\"FPR\")\n",
    "plt.ylabel(\"TPR\")\n",
    "plt.title('ROC CURVE')\n",
    "plt.savefig('./ROC_CURVE')\n",
    "plt.show()"
   ]
  },
  {
   "cell_type": "markdown",
   "metadata": {},
   "source": [
    "## Draw Precision Recall Curve"
   ]
  },
  {
   "cell_type": "code",
   "execution_count": 62,
   "metadata": {},
   "outputs": [
    {
     "data": {
      "image/png": "[encoded data removed]",
      "text/plain": [
       "<Figure size 640x480 with 1 Axes>"
      ]
     },
     "metadata": {},
     "output_type": "display_data"
    }
   ],
   "source": [
    "from  sklearn.metrics import precision_recall_curve\n",
    "\n",
    "precision, recall, thresholds = precision_recall_curve(prediction, target)\n",
    "\n",
    "plt.figure(num=None, figsize=(8, 6), dpi=80, facecolor='w', edgecolor='k')\n",
    "\n",
    "plt.plot(precision,recall)\n",
    "plt.xlabel(\"Recall\")\n",
    "plt.ylabel(\"Precision\")\n",
    "plt.title('Precision-Recall Curve')\n",
    "plt.savefig('./PRC_CURVE')\n",
    "plt.show()"
   ]
  },
  {
   "cell_type": "code",
   "execution_count": null,
   "metadata": {},
   "outputs": [],
   "source": []
  }
 ],
 "metadata": {
  "accelerator": "GPU",
  "colab": {
   "collapsed_sections": [],
   "name": "DAI_Part1.ipynb",
   "provenance": []
  },
  "kernelspec": {
   "display_name": "Python 3",
   "language": "python",
   "name": "python3"
  },
  "language_info": {
   "codemirror_mode": {
    "name": "ipython",
    "version": 3
   },
   "file_extension": ".py",
   "mimetype": "text/x-python",
   "name": "python",
   "nbconvert_exporter": "python",
   "pygments_lexer": "ipython3",
   "version": "3.7.3"
  }
 },
 "nbformat": 4,
 "nbformat_minor": 1
}
